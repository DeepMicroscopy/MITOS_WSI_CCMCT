{
 "cells": [
  {
   "cell_type": "markdown",
   "metadata": {},
   "source": [
    "## Database statistics for SCI Data publication - Will give the contents of Table 1"
   ]
  },
  {
   "cell_type": "code",
   "execution_count": 1,
   "metadata": {},
   "outputs": [],
   "source": [
    "from SlideRunner.dataAccess.database import Database\n",
    "import SlideRunner.dataAccess.database\n",
    "import os\n",
    "import numpy as np\n",
    "import openslide\n",
    "import cv2"
   ]
  },
  {
   "cell_type": "code",
   "execution_count": 2,
   "metadata": {},
   "outputs": [],
   "source": [
    "\n",
    "test_slide_filenames = ['f26e9fcef24609b988be.svs',\n",
    "'dd4246ab756f6479c841.svs',\n",
    "'f3741e764d39ccc4d114.svs',\n",
    "'c91a842257ed2add5134.svs',\n",
    "'8c9f9618fcaca747b7c3.svs',\n",
    "'add0a9bbc53d1d9bac4c.svs',\n",
    "'c86cd41f96331adf3856.svs',\n",
    "'be10fa37ad6e88e1f406.svs',\n",
    "'96274538c93980aad8d6.svs',\n",
    "'552c51bfb88fd3e65ffe.svs',\n",
    "'1018715d369dd0df2fc0.svs']\n",
    "\n"
   ]
  },
  {
   "cell_type": "markdown",
   "metadata": {},
   "source": [
    "## Query all databases for the respective classes. Joint query to have all in the same order."
   ]
  },
  {
   "cell_type": "code",
   "execution_count": 3,
   "metadata": {},
   "outputs": [],
   "source": [
    "DB = Database().open('MITOS_WSI_CCMCT_ODAEL.sqlite')\n",
    "DB.execute('ATTACH `MITOS_WSI_CCMCT_MEL.sqlite` as MEL;')\n",
    "DB.execute('ATTACH `MITOS_WSI_CCMCT_HEAEL.sqlite` as HEAEL;')\n",
    "\n",
    "ODAEL = DB.execute(\"\"\"\n",
    "SELECT * FROM (\n",
    "SELECT filename, MitoticFigures, MitoticFigureLookalikes, Granulocytes, TumorCells FROM \n",
    "(SELECT COUNT(*) as MitoticFigureLookalikes, slide from Annotations where agreedClass==7 group by slide) as cls7\n",
    "LEFT JOIN (SELECT COUNT(*) as MitoticFigures, slide from Annotations where agreedClass==2 group by slide) as cls2 on cls2.slide == cls7.slide\n",
    "LEFT JOIN (SELECT COUNT(*) as Granulocytes, slide from Annotations where agreedClass==1 group by slide) as cls1 on cls1.slide == cls7.slide\n",
    "LEFT JOIN (SELECT COUNT(*) as TumorCells, slide from Annotations where agreedClass==3 group by slide) as cls3 on cls3.slide == cls7.slide\n",
    "LEFT JOIN Slides on Slides.uid == cls2.slide order by mitoticFigures) as ODAEL\n",
    "LEFT JOIN \n",
    "(\n",
    "SELECT filename, MitoticFigures, 0 as MitoticFigureLookalikes, Granulocytes, TumorCells FROM (\n",
    "SELECT COUNT(*) as MitoticFigures, slide from MEL.Annotations where agreedClass==2 group by slide) as cls2\n",
    "LEFT JOIN (SELECT COUNT(*) as Granulocytes, slide from MEL.Annotations where agreedClass==1 group by slide) as cls1 on cls1.slide == cls2.slide\n",
    "LEFT JOIN (SELECT COUNT(*) as TumorCells, slide from MEL.Annotations where agreedClass==3 group by slide) as cls3 on cls3.slide == cls2.slide\n",
    "LEFT JOIN MEL.Slides on Slides.uid == cls2.slide order by mitoticFigures\n",
    ") as MEL on MEL.filename == ODAEL.filename\n",
    "LEFT JOIN \n",
    "(\n",
    "SELECT filename, MitoticFigures, MitoticFigureLookalikes, Granulocytes, TumorCells FROM \n",
    "(SELECT COUNT(*) as MitoticFigureLookalikes, slide from HEAEL.Annotations where agreedClass==7 group by slide) as cls7\n",
    "LEFT JOIN (SELECT COUNT(*) as MitoticFigures, slide from HEAEL.Annotations where agreedClass==2 group by slide) as cls2 on cls2.slide == cls7.slide\n",
    "LEFT JOIN (SELECT COUNT(*) as Granulocytes, slide from HEAEL.Annotations where agreedClass==1 group by slide) as cls1 on cls1.slide == cls2.slide\n",
    "LEFT JOIN (SELECT COUNT(*) as TumorCells, slide from HEAEL.Annotations where agreedClass==3 group by slide) as cls3 on cls3.slide == cls2.slide\n",
    "LEFT JOIN MEL.Slides on Slides.uid == cls2.slide order by mitoticFigures\n",
    ") as HEAEL on HEAEL.filename == ODAEL.filename\n",
    "\n",
    "\n",
    "\"\"\").fetchall()"
   ]
  },
  {
   "cell_type": "markdown",
   "metadata": {},
   "source": [
    "Output everything in LateX table format"
   ]
  },
  {
   "cell_type": "code",
   "execution_count": 4,
   "metadata": {},
   "outputs": [
    {
     "name": "stdout",
     "output_type": "stream",
     "text": [
      "2f2591b840e83a4b4358.svs & 144.79\\,$\\mathrm{mm}^2$ & 3 / 1 / 1 & 48 / 2 / 0 & 2213 / 2213 / 2213 & 1149 / 1113 / 1113 & train \\\\ \n",
      "ce949341ba99845813ac.svs & 13.94\\,$\\mathrm{mm}^2$ & 4 / 1 / 1 & 30 / 2 / 0 & 35 / 35 / 35 & 1200 / 1197 / 1197 & train \\\\ \n",
      "91a8e57ea1f9cb0aeb63.svs & 25.24\\,$\\mathrm{mm}^2$ & 6 / 2 / 2 & 16 / 3 / 0 & 573 / 573 / 573 & 1916 / 1903 / 1903 & train \\\\ \n",
      "9374efe6ac06388cc877.svs & 35.63\\,$\\mathrm{mm}^2$ & 7 / 6 / 6 & 17 / 4 / 0 & 1531 / 1531 / 1531 & 1567 / 1534 / 1534 & train \\\\ \n",
      "0e56fd11a762be0983f0.svs & 25.63\\,$\\mathrm{mm}^2$ & 8 / 4 / 4 & 262 / 17 / 0 & 239 / 239 / 239 & 1620 / 1089 / 1089 & train \\\\ \n",
      "dd6dd0d54b81ebc59c77.svs & 62.25\\,$\\mathrm{mm}^2$ & 11 / 5 / 5 & 57 / 15 / 0 & 1230 / 1230 / 1230 & 1830 / 1733 / 1733 & train \\\\ \n",
      "be10fa37ad6e88e1f406.svs & 14.87\\,$\\mathrm{mm}^2$ & 12 / 3 / 3 & 55 / 2 / 0 & 124 / 124 / 124 & 1354 / 1351 / 1351 & test \\\\ \n",
      "2e611073cff18d503cea.svs & 81.64\\,$\\mathrm{mm}^2$ & 18 / 11 / 11 & 137 / 2 / 0 & 2556 / 2556 / 2556 & 1136 / 1111 / 1111 & train \\\\ \n",
      "066c94c4c161224077a9.svs & 115.49\\,$\\mathrm{mm}^2$ & 19 / 19 / 19 & 54 / 10 / 0 & 1742 / 1742 / 1742 & 1035 / 1001 / 1001 & train \\\\ \n",
      "285f74bb6be025a676b6.svs & 83.07\\,$\\mathrm{mm}^2$ & 19 / 14 / 14 & 48 / 4 / 0 & 2895 / 2895 / 2895 & 1837 / 1807 / 1807 & train \\\\ \n",
      "f3741e764d39ccc4d114.svs & 39.23\\,$\\mathrm{mm}^2$ & 37 / 28 / 28 & 115 / 9 / 0 & 724 / 724 / 724 & 1932 / 1903 / 1903 & test \\\\ \n",
      "c86cd41f96331adf3856.svs & 189.02\\,$\\mathrm{mm}^2$ & 56 / 39 / 39 & 75 / 2 / 0 & 2412 / 2412 / 2412 & 1593 / 1548 / 1548 & test \\\\ \n",
      "2efb541724b5c017c503.svs & 21.27\\,$\\mathrm{mm}^2$ & 66 / 66 / 66 & 24 / 14 / 0 & 645 / 645 / 645 & 621 / 557 / 557 & train \\\\ \n",
      "70ed18cd5f806cf396f0.svs & 88.30\\,$\\mathrm{mm}^2$ & 85 / 68 / 4 & 880 / 267 / 0 & 1913 / 1913 / 1913 & 578 / 543 / 543 & train \\\\ \n",
      "552c51bfb88fd3e65ffe.svs & 185.63\\,$\\mathrm{mm}^2$ & 119 / 68 / 68 & 670 / 9 / 0 & 1688 / 1688 / 1688 & 2074 / 2050 / 2050 & test \\\\ \n",
      "3f2e034c75840cb901e6.svs & 103.25\\,$\\mathrm{mm}^2$ & 571 / 547 / 543 & 350 / 79 / 0 & 1434 / 1434 / 1434 & 1913 / 1547 / 1547 & train \\\\ \n",
      "8c9f9618fcaca747b7c3.svs & 312.96\\,$\\mathrm{mm}^2$ & 715 / 675 / 675 & 1212 / 546 / 0 & 28 / 28 / 28 & 3077 / 2974 / 2974 & test \\\\ \n",
      "c91a842257ed2add5134.svs & 160.25\\,$\\mathrm{mm}^2$ & 759 / 716 / 716 & 690 / 128 / 0 & 2327 / 2327 / 2327 & 1719 / 1584 / 1584 & test \\\\ \n",
      "dd4246ab756f6479c841.svs & 238.22\\,$\\mathrm{mm}^2$ & 777 / 731 / 729 & 525 / 84 / 0 & 2703 / 2703 / 2703 & 2986 / 1917 / 1917 & test \\\\ \n",
      "8bebdd1f04140ed89426.svs & 213.66\\,$\\mathrm{mm}^2$ & 1000 / 976 / 958 & 534 / 276 / 0 & 1563 / 1563 / 1563 & 2196 / 1791 / 1791 & train \\\\ \n",
      "2f17d43b3f9e7dacf24c.svs & 87.86\\,$\\mathrm{mm}^2$ & 1157 / 1097 / 1097 & 477 / 49 / 0 & 2719 / 2719 / 2719 & 1625 / 1593 / 1593 & train \\\\ \n",
      "a0c8b612fe0655eab3ce.svs & 261.85\\,$\\mathrm{mm}^2$ & 1279 / 1210 / 1210 & 1407 / 110 / 0 & 2118 / 2118 / 2118 & 1556 / 1522 / 1522 & train \\\\ \n",
      "ac1168b2c893d2acad38.svs & 346.26\\,$\\mathrm{mm}^2$ & 1329 / 1316 / 1310 & 474 / 288 / 0 & 613 / 613 / 613 & 4354 / 2427 / 2427 & train \\\\ \n",
      "fff27b79894fe0157b08.svs & 256.29\\,$\\mathrm{mm}^2$ & 1744 / 1545 / 1544 & 1466 / 166 / 0 & 5774 / 5774 / 5774 & 2279 / 1805 / 1805 & train \\\\ \n",
      "34eb28ce68c1106b2bac.svs & 190.18\\,$\\mathrm{mm}^2$ & 2279 / 1879 / 1878 & 1297 / 47 / 0 & 2054 / 2054 / 2054 & 1540 / 1532 / 1532 & train \\\\ \n",
      "f26e9fcef24609b988be.svs & 136.58\\,$\\mathrm{mm}^2$ & 2380 / 2341 / 2341 & 459 / 168 / 0 & 2447 / 2447 / 2447 & 1807 / 1655 / 1655 & test \\\\ \n",
      "96274538c93980aad8d6.svs & 188.35\\,$\\mathrm{mm}^2$ & 3068 / 2978 / 2975 & 3762 / 733 / 0 & 1170 / 1170 / 1170 & 4297 / 1703 / 1703 & test \\\\ \n",
      "add0a9bbc53d1d9bac4c.svs & 242.71\\,$\\mathrm{mm}^2$ & 3569 / 3393 / 3387 & 1759 / 477 / 0 & 415 / 415 / 414 & 2198 / 1977 / 1977 & test \\\\ \n",
      "39ecf7f94ed96824405d.svs & 220.56\\,$\\mathrm{mm}^2$ & 3689 / 3516 / 3508 & 3412 / 767 / 0 & 1572 / 1572 / 1572 & 1931 / 1678 / 1678 & train \\\\ \n",
      "20c0753af38303691b27.svs & 269.48\\,$\\mathrm{mm}^2$ & 4343 / 4048 / 4037 & 2024 / 343 / 0 & 1772 / 1772 / 1772 & 3835 / 1668 / 1668 & train \\\\ \n",
      "c3eb4b8382b470dd63a9.svs & 149.74\\,$\\mathrm{mm}^2$ & 4767 / 4705 / 4696 & 1326 / 564 / 0 & 140 / 140 / 140 & 9461 / 9383 / 9383 & train \\\\ \n",
      "1018715d369dd0df2fc0.svs & 337.88\\,$\\mathrm{mm}^2$ & 10984 / 10599 / 10590 & 4303 / 912 / 0 & 2070 / 2070 / 2070 & 3135 / 2137 / 2137 & test \\\\ \n"
     ]
    }
   ],
   "source": [
    "\n",
    "\n",
    "dbTumor = Database()\n",
    "\n",
    "dbTumor.open('./MITOS_WSI_CCMCT_Tumorzone.sqlite')\n",
    "totalarea = 0\n",
    "totalmit = 0\n",
    "\n",
    "for (filename, mit,nonmit, gran, tum, _, mitA, nonmitA, granA, tumA,_, mitH,nonmitH, granH, tumH) in ODAEL:\n",
    "\n",
    "    dbTSlide = dbTumor.findSlideWithFilename(os.path.basename(filename), slidepath='')\n",
    "    dbTumor.loadIntoMemory(dbTSlide)\n",
    "    \n",
    "    slide = openslide.open_slide('../WSI/'+filename)\n",
    "\n",
    "\n",
    "    positiveId = dbTumor.findClassidOfClass('Tumorzone')[0][0]\n",
    "    import matplotlib.path as p\n",
    "\n",
    "    micronsPerPixel = slide.properties[openslide.PROPERTY_NAME_MPP_X]\n",
    "    mpp_scaled = float(slide.level_downsamples[-1]) * float(micronsPerPixel)  \n",
    "\n",
    "    slideActiveMap = np.zeros((slide.level_dimensions[-1][::-1]))\n",
    "    ds = slide.level_downsamples[-1]\n",
    "    for anno in dbTumor.annotations.keys():\n",
    "        if (dbTumor.annotations[anno].agreedLabel()==positiveId) and (type(dbTumor.annotations[anno]) == type(dbTumor.annotations[anno]) == SlideRunner.dataAccess.annotations.polygonAnnotation):\n",
    "            co = dbTumor.annotations[anno].coordinates\n",
    "            p3 = np.int32([np.asarray(co)/ds])\n",
    "            cv2.fillPoly(slideActiveMap, p3,color=[255] )\n",
    "\n",
    "    for anno in dbTumor.annotations.keys():\n",
    "        if not (dbTumor.annotations[anno].agreedLabel()==positiveId) and (type(dbTumor.annotations[anno]) == type(dbTumor.annotations[anno]) == SlideRunner.dataAccess.annotations.polygonAnnotation):\n",
    "            co = dbTumor.annotations[anno].coordinates\n",
    "            p3 = np.int32([np.asarray(co)/ds])\n",
    "            cv2.fillPoly(slideActiveMap, p3,color=[0] )\n",
    "    mm2 = np.sum(slideActiveMap>0)*mpp_scaled*mpp_scaled/1E6\n",
    "    totalarea += mm2\n",
    "    totalmit += mit\n",
    "                \n",
    "    print('%s & %.2f\\,$\\\\mathrm{mm}^2$ & %d / %d / %d & %d / %d / %d & %d / %d / %d & %d / %d / %d & %s \\\\\\\\ ' % \n",
    "          (filename.replace('_','\\\\_'), mm2, mit,mitH,mitA,nonmit,nonmitH,nonmitA, gran,granH, granA, tum, tumH, tumA, 'test' if filename in test_slide_filenames else 'train'))"
   ]
  },
  {
   "cell_type": "markdown",
   "metadata": {},
   "source": [
    "## And finally the question: What is the total area?"
   ]
  },
  {
   "cell_type": "code",
   "execution_count": 5,
   "metadata": {},
   "outputs": [
    {
     "name": "stdout",
     "output_type": "stream",
     "text": [
      "Total area:  4842.062112944357 mm^2, mitotic figures in ODAEL data set 44880\n"
     ]
    }
   ],
   "source": [
    "print('Total area: ',totalarea,'mm^2, mitotic figures in ODAEL data set',totalmit)"
   ]
  },
  {
   "cell_type": "code",
   "execution_count": null,
   "metadata": {},
   "outputs": [],
   "source": []
  }
 ],
 "metadata": {
  "kernelspec": {
   "display_name": "Python 3",
   "language": "python",
   "name": "python3"
  },
  "language_info": {
   "codemirror_mode": {
    "name": "ipython",
    "version": 3
   },
   "file_extension": ".py",
   "mimetype": "text/x-python",
   "name": "python",
   "nbconvert_exporter": "python",
   "pygments_lexer": "ipython3",
   "version": "3.6.7"
  }
 },
 "nbformat": 4,
 "nbformat_minor": 2
}
