{
 "cells": [
  {
   "cell_type": "markdown",
   "metadata": {},
   "source": [
    "# Set up notebook to download the data set\n",
    "\n",
    "This notebook will download"
   ]
  },
  {
   "cell_type": "code",
   "execution_count": 1,
   "metadata": {},
   "outputs": [
    {
     "name": "stdout",
     "output_type": "stream",
     "text": [
      "Downloading all files from figshare - take a coffee and sit down, this will take some while, we are downloading above 44GB ...\n"
     ]
    },
    {
     "name": "stderr",
     "output_type": "stream",
     "text": [
      "100%|██████████| 36/36 [20:49<00:00, 25.60s/it]\n"
     ]
    }
   ],
   "source": [
    "import urllib.request\n",
    "import os\n",
    "from tqdm import tqdm\n",
    "downloadableFiles = {'databases/MITOS_WSI_CCMCT_Tumorzone.sqlite': \n",
    "                          'https://ndownloader.figshare.com/files/16261586?private_link=a82ddb634864c24f4aee' ,\n",
    "                     'databases/MITOS_WSI_CCMCT_ODAEL.sqlite':\n",
    "                          'https://ndownloader.figshare.com/files/16261571?private_link=a82ddb634864c24f4aee' ,\n",
    "                     'databases/MITOS_WSI_CCMCT_HEAEL.sqlite':\n",
    "                          'https://ndownloader.figshare.com/files/16261583?private_link=a82ddb634864c24f4aee' ,\n",
    "                     'databases/MITOS_WSI_CCMCT_MEL.sqlite':\n",
    "                          'https://ndownloader.figshare.com/files/16261574?private_link=a82ddb634864c24f4aee' ,\n",
    "                     'WSI/96274538c93980aad8d6.svs': # 3\n",
    "                          'https://ndownloader.figshare.com/files/16261559?private_link=a82ddb634864c24f4aee', \n",
    "                     'WSI/1018715d369dd0df2fc0.svs': # 20\n",
    "                          'https://ndownloader.figshare.com/files/16261562?private_link=a82ddb634864c24f4aee',\n",
    "                     'WSI/9374efe6ac06388cc877.svs': # 26\n",
    "                          'https://ndownloader.figshare.com/files/16261553?private_link=a82ddb634864c24f4aee',\n",
    "                     'WSI/552c51bfb88fd3e65ffe.svs': # 27\n",
    "                          'https://ndownloader.figshare.com/files/16261556?private_link=a82ddb634864c24f4aee',\n",
    "                     'WSI/285f74bb6be025a676b6.svs': # 29\n",
    "                          'https://ndownloader.figshare.com/files/16261550?private_link=a82ddb634864c24f4aee',\n",
    "                     'WSI/91a8e57ea1f9cb0aeb63.svs': # 24\n",
    "                          'https://ndownloader.figshare.com/files/16261544?private_link=a82ddb634864c24f4aee',\n",
    "                     'WSI/70ed18cd5f806cf396f0.svs': # 35\n",
    "                          'https://ndownloader.figshare.com/files/16261541?private_link=a82ddb634864c24f4aee',\n",
    "                     'WSI/066c94c4c161224077a9.svs': # 25 \n",
    "                          'https://ndownloader.figshare.com/files/16261547?private_link=a82ddb634864c24f4aee',\n",
    "                     'WSI/39ecf7f94ed96824405d.svs': # 19\n",
    "                          'https://ndownloader.figshare.com/files/16261529?private_link=a82ddb634864c24f4aee',\n",
    "                     'WSI/34eb28ce68c1106b2bac.svs': # 14\n",
    "                          'https://ndownloader.figshare.com/files/16261538?private_link=a82ddb634864c24f4aee',\n",
    "                     'WSI/20c0753af38303691b27.svs': # 21\n",
    "                          'https://ndownloader.figshare.com/files/16261532?private_link=a82ddb634864c24f4aee',\n",
    "                     'WSI/3f2e034c75840cb901e6.svs': # 15\n",
    "                          'https://ndownloader.figshare.com/files/16261505?private_link=a82ddb634864c24f4aee',\n",
    "                     'WSI/2efb541724b5c017c503.svs': #22 \n",
    "                          'https://ndownloader.figshare.com/files/16261520?private_link=a82ddb634864c24f4aee',\n",
    "                     'WSI/2f2591b840e83a4b4358.svs':#23\n",
    "                          'https://ndownloader.figshare.com/files/16261514?private_link=a82ddb634864c24f4aee',\n",
    "                     'WSI/8bebdd1f04140ed89426.svs': # 17\n",
    "                          'https://ndownloader.figshare.com/files/16261523?private_link=a82ddb634864c24f4aee',\n",
    "                     'WSI/8c9f9618fcaca747b7c3.svs': # 9\n",
    "                          'https://ndownloader.figshare.com/files/16261526?private_link=a82ddb634864c24f4aee',\n",
    "                     'WSI/2f17d43b3f9e7dacf24c.svs': # 8\n",
    "                          'https://ndownloader.figshare.com/files/16261535?private_link=a82ddb634864c24f4aee',\n",
    "                     'WSI/f3741e764d39ccc4d114.svs': # 31\n",
    "                          'https://ndownloader.figshare.com/files/16261493?private_link=a82ddb634864c24f4aee',\n",
    "                     'WSI/fff27b79894fe0157b08.svs': # 7\n",
    "                          'https://ndownloader.figshare.com/files/16261490?private_link=a82ddb634864c24f4aee',\n",
    "                     'WSI/f26e9fcef24609b988be.svs': # 6\n",
    "                          'https://ndownloader.figshare.com/files/16261496?private_link=a82ddb634864c24f4aee',\n",
    "                     'WSI/dd4246ab756f6479c841.svs': # 18\n",
    "                          'https://ndownloader.figshare.com/files/16261487?private_link=a82ddb634864c24f4aee',\n",
    "                     'WSI/c3eb4b8382b470dd63a9.svs': # 4\n",
    "                          'https://ndownloader.figshare.com/files/16261466?private_link=a82ddb634864c24f4aee',\n",
    "                     'WSI/c86cd41f96331adf3856.svs': # 30\n",
    "                          'https://ndownloader.figshare.com/files/16261475?private_link=a82ddb634864c24f4aee',\n",
    "                     'WSI/c91a842257ed2add5134.svs': # 1\n",
    "                          'https://ndownloader.figshare.com/files/16261481?private_link=a82ddb634864c24f4aee',\n",
    "                     'WSI/dd6dd0d54b81ebc59c77.svs': # 28\n",
    "                          'https://ndownloader.figshare.com/files/16261478?private_link=a82ddb634864c24f4aee',\n",
    "                     'WSI/be10fa37ad6e88e1f406.svs': # 11\n",
    "                          'https://ndownloader.figshare.com/files/16261469?private_link=a82ddb634864c24f4aee',\n",
    "                     'WSI/ce949341ba99845813ac.svs': # 34\n",
    "                          'https://ndownloader.figshare.com/files/16261484?private_link=a82ddb634864c24f4aee',\n",
    "                     'WSI/a0c8b612fe0655eab3ce.svs': # 13\n",
    "                          'https://ndownloader.figshare.com/files/16261424?private_link=a82ddb634864c24f4aee',\n",
    "                     'WSI/add0a9bbc53d1d9bac4c.svs': # 2\n",
    "                          'https://ndownloader.figshare.com/files/16261436?private_link=a82ddb634864c24f4aee',\n",
    "                     'WSI/2e611073cff18d503cea.svs': # 32\n",
    "                          'https://ndownloader.figshare.com/files/16261439?private_link=a82ddb634864c24f4aee',\n",
    "                     'WSI/0e56fd11a762be0983f0.svs': # 31\n",
    "                          'https://ndownloader.figshare.com/files/16261442?private_link=a82ddb634864c24f4aee',\n",
    "                     'WSI/ac1168b2c893d2acad38.svs': # 12\n",
    "                          'https://ndownloader.figshare.com/files/16261445?private_link=a82ddb634864c24f4aee',\n",
    "                    }\n",
    "\n",
    "# Create folder for WSI if nonexistant\n",
    "if not os.path.isdir('WSI'):\n",
    "    os.mkdir('WSI')\n",
    "\n",
    "tqdm.write('Downloading all files from figshare - take a coffee and sit down, this will take some while, we are downloading above 44GB ...')\n",
    "    \n",
    "\n",
    "from time import sleep    \n",
    "sleep(0.5)\n",
    "\n",
    "import requests\n",
    "\n",
    "                    \n",
    "for fname in tqdm(list(downloadableFiles.keys())):\n",
    "    urllib.request.urlretrieve(downloadableFiles[fname],fname)\n"
   ]
  }
 ],
 "metadata": {
  "kernelspec": {
   "display_name": "Python 3",
   "language": "python",
   "name": "python3"
  },
  "language_info": {
   "codemirror_mode": {
    "name": "ipython",
    "version": 3
   },
   "file_extension": ".py",
   "mimetype": "text/x-python",
   "name": "python",
   "nbconvert_exporter": "python",
   "pygments_lexer": "ipython3",
   "version": "3.6.8"
  }
 },
 "nbformat": 4,
 "nbformat_minor": 2
}
