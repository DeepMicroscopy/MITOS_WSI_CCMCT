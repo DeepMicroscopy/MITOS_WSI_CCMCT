{
 "cells": [
  {
   "cell_type": "markdown",
   "metadata": {},
   "source": [
    "# Ablation Study  - Evaluation\n",
    "Here, we evaluate the impact of a size-reduced data set on the performance. We expect that a reduced data set will show contain less data variance and thus generalization will be lower."
   ]
  },
  {
   "cell_type": "code",
   "execution_count": 1,
   "metadata": {},
   "outputs": [],
   "source": [
    "%reload_ext autoreload\n",
    "%autoreload 2\n",
    "%matplotlib inline\n",
    "\n",
    "\n",
    "import pickle\n",
    "import numpy as np\n",
    "\n",
    "from SlideRunner.dataAccess.database import Database\n",
    "from lib.calculate_F1 import *\n"
   ]
  },
  {
   "cell_type": "markdown",
   "metadata": {},
   "source": [
    "## Optimization of thresholds\n",
    "\n",
    "The thresholds are always optimized on the complete WSI of the train+val set.  We optimize thresholds for both, the single stage (RetinaNet) and the dual stage approach."
   ]
  },
  {
   "cell_type": "code",
   "execution_count": 2,
   "metadata": {},
   "outputs": [
    {
     "name": "stdout",
     "output_type": "stream",
     "text": [
      "===== RetinaNet-ODAEL-5HPF-export.pth ===== \n",
      "Optimizing threshold for validation set of 21 files: \n",
      "Best threshold: F1= 0.20773313115996966 Threshold= 0.7700000000000005\n",
      "Optimizing threshold for validation set of 21 files: \n",
      "Best threshold: F1= 0.5152542372881356 Threshold= 0.2900000000000001\n",
      "===== RetinaNet-ODAEL-10HPF-export.pth ===== \n",
      "Optimizing threshold for validation set of 21 files: \n",
      "Best threshold: F1= 0.8105906313645621 Threshold= 0.6500000000000004\n",
      "Optimizing threshold for validation set of 21 files: \n",
      "Best threshold: F1= 0.8071872840359364 Threshold= 0.7600000000000005\n",
      "===== RetinaNet-ODAEL-50HPF-export.pth ===== \n",
      "Optimizing threshold for validation set of 21 files: \n",
      "Best threshold: F1= 0.6858422321736135 Threshold= 0.6900000000000004\n",
      "Optimizing threshold for validation set of 21 files: \n",
      "Best threshold: F1= 0.8301960784313726 Threshold= 0.5700000000000003\n",
      "===== RetinaNet-ODAEL-export.pth ===== \n",
      "Optimizing threshold for validation set of 21 files: \n",
      "Best threshold: F1= 0.6285386302605416 Threshold= 0.7900000000000005\n",
      "Optimizing threshold for validation set of 21 files: \n",
      "Best threshold: F1= 0.8080314505919197 Threshold= 0.5400000000000003\n",
      "===== RetinaNet-ODAEL-3WSI-export.pth ===== \n",
      "Optimizing threshold for validation set of 3 files: \n",
      "Best threshold: F1= 0.7597066436583262 Threshold= 0.7100000000000004\n",
      "Optimizing threshold for validation set of 3 files: \n",
      "Best threshold: F1= 0.8169395821569735 Threshold= 0.3200000000000001\n",
      "===== RetinaNet-ODAEL-6WSI-export.pth ===== \n",
      "Optimizing threshold for validation set of 6 files: \n",
      "Best threshold: F1= 0.6124533191067754 Threshold= 0.7300000000000004\n",
      "Optimizing threshold for validation set of 6 files: \n",
      "Best threshold: F1= 0.8198812019566737 Threshold= 0.48000000000000026\n",
      "===== RetinaNet-ODAEL-12WSI-export.pth ===== \n",
      "Optimizing threshold for validation set of 12 files: \n",
      "Best threshold: F1= 0.6188079286284583 Threshold= 0.8400000000000005\n",
      "Optimizing threshold for validation set of 12 files: \n",
      "Best threshold: F1= 0.8273221841628048 Threshold= 0.49000000000000027\n"
     ]
    }
   ],
   "source": [
    "datasets = ['CCMCT_ODAEL_5HPF', 'CCMCT_ODAEL_10HPF', 'CCMCT_ODAEL_50HPF', 'CCMCT_ODAEL']\n",
    "\n",
    "models = ['RetinaNet-ODAEL-5HPF-export.pth',\n",
    "          'RetinaNet-ODAEL-10HPF-export.pth', \n",
    "          'RetinaNet-ODAEL-50HPF-export.pth',\n",
    "          'RetinaNet-ODAEL-export.pth',\n",
    "          'RetinaNet-ODAEL-3WSI-export.pth',\n",
    "          'RetinaNet-ODAEL-6WSI-export.pth',\n",
    "          'RetinaNet-ODAEL-12WSI-export.pth',\n",
    "          ]\n",
    "\n",
    "dataset_names = {'RetinaNet-ODAEL-5HPF-export.pth': 'CCMCT_ODAEL_5HPF',\n",
    "                     'RetinaNet-ODAEL-10HPF-export.pth': 'CCMCT_ODAEL_10HPF',\n",
    "                     'RetinaNet-ODAEL-50HPF-export.pth': 'CCMCT_ODAEL_50HPF',\n",
    "                     'RetinaNet-ODAEL-export.pth': 'CCMCT_ODAEL',\n",
    "                     'RetinaNet-ODAEL-3WSI-export.pth': 'ODAEL_3WSI',\n",
    "                     'RetinaNet-ODAEL-6WSI-export.pth': 'ODAEL_6WSI',\n",
    "                     'RetinaNet-ODAEL-12WSI-export.pth': 'ODAEL_12WSI',\n",
    "\n",
    "                }\n",
    "\n",
    "original_database = {'RetinaNet-ODAEL-5HPF-export.pth': 'MITOS_WSI_CCMCT_ODAEL_5HPF.sqlite',\n",
    "                     'RetinaNet-ODAEL-10HPF-export.pth': 'MITOS_WSI_CCMCT_ODAEL_10HPF.sqlite',\n",
    "                     'RetinaNet-ODAEL-50HPF-export.pth': 'MITOS_WSI_CCMCT_ODAEL_50HPF.sqlite',\n",
    "                     'RetinaNet-ODAEL-export.pth': 'MITOS_WSI_CCMCT_ODAEL.sqlite',\n",
    "                     'RetinaNet-ODAEL-3WSI-export.pth': 'MITOS_WSI_CCMCT_ODAEL_3WSI.sqlite',\n",
    "                     'RetinaNet-ODAEL-6WSI-export.pth': 'MITOS_WSI_CCMCT_ODAEL_6WSI.sqlite',\n",
    "                     'RetinaNet-ODAEL-12WSI-export.pth': 'MITOS_WSI_CCMCT_ODAEL_12WSI.sqlite',\n",
    "                    }\n",
    "\n",
    "thresholds = dict()\n",
    "thresholds_2stage = dict()\n",
    "dbpath = 'AblationStudy/databases/'\n",
    "for m in models:\n",
    "    print ('===== %s ===== ' % m)\n",
    "\n",
    "    resfile = m+'-'+dataset_names[m]+'-val-inference_results_boxes.p.bz2'\n",
    "\n",
    "    thresholds[m], _,_ = optimize_threshold(databasefile=dbpath+original_database[m], resfile='AblationStudy/results/'+resfile, minthres=0.20)\n",
    "    thresholds_2stage[m], _,_ = optimize_threshold(databasefile=dbpath+original_database[m], resfile='AblationStudy/results/2ndstage_'+resfile, minthres=0.20)    "
   ]
  },
  {
   "cell_type": "markdown",
   "metadata": {},
   "source": [
    "## Inference on test set\n",
    "Now calculate the final score on the original test set."
   ]
  },
  {
   "cell_type": "code",
   "execution_count": 3,
   "metadata": {},
   "outputs": [
    {
     "name": "stdout",
     "output_type": "stream",
     "text": [
      "===== RetinaNet-ODAEL-5HPF-export.pth ===== \n",
      "Calculating F1 for test set of 11 files\n",
      "Overall: \n",
      "TP: 35.0 FP: 239 FN:  113.0 F1: 0.16587677725118483\n",
      "Calculating F1 for test set of 11 files\n",
      "Overall: \n",
      "TP: 39.0 FP: 29.0 FN:  109.0 F1: 0.3611111111111111\n",
      "Calculating F1 for test set of 11 files\n",
      "Overall: \n",
      "TP: 16616 FP: 22266 FN:  5860 F1: 0.541608266240751\n",
      "Calculating F1 for test set of 11 files\n",
      "Overall: \n",
      "TP: 18430 FP: 22306 FN:  4046 F1: 0.5831171296589255\n",
      "===== RetinaNet-ODAEL-10HPF-export.pth ===== \n",
      "Calculating F1 for test set of 11 files\n",
      "Overall: \n",
      "TP: 196 FP: 63 FN:  100 F1: 0.7063063063063063\n",
      "Calculating F1 for test set of 11 files\n",
      "Overall: \n",
      "TP: 214 FP: 40 FN:  82 F1: 0.7781818181818182\n",
      "Calculating F1 for test set of 11 files\n",
      "Overall: \n",
      "TP: 14538 FP: 10059 FN:  7938 F1: 0.6176789242240774\n",
      "Calculating F1 for test set of 11 files\n",
      "Overall: \n",
      "TP: 15578 FP: 8027 FN:  6898 F1: 0.6761137996137236\n",
      "===== RetinaNet-ODAEL-50HPF-export.pth ===== \n",
      "Calculating F1 for test set of 11 files\n",
      "Overall: \n",
      "TP: 1218 FP: 1365 FN:  231 F1: 0.6041666666666666\n",
      "Calculating F1 for test set of 11 files\n",
      "Overall: \n",
      "TP: 1203 FP: 260 FN:  246 F1: 0.8262362637362637\n",
      "Calculating F1 for test set of 11 files\n",
      "Overall: \n",
      "TP: 18484 FP: 27280 FN:  3992 F1: 0.5417350527549825\n",
      "Calculating F1 for test set of 11 files\n",
      "Overall: \n",
      "TP: 17878 FP: 6074 FN:  4598 F1: 0.7701387093995004\n",
      "===== RetinaNet-ODAEL-export.pth ===== \n",
      "Calculating F1 for test set of 11 files\n",
      "Overall: \n",
      "TP: 16074 FP: 11216 FN:  6402 F1: 0.64598320138247\n",
      "Calculating F1 for test set of 11 files\n",
      "Overall: \n",
      "TP: 18248 FP: 3783 FN:  4228 F1: 0.8200058417776979\n",
      "Calculating F1 for test set of 11 files\n",
      "Overall: \n",
      "TP: 16074 FP: 11216 FN:  6402 F1: 0.64598320138247\n",
      "Calculating F1 for test set of 11 files\n",
      "Overall: \n",
      "TP: 18248 FP: 3783 FN:  4228 F1: 0.8200058417776979\n"
     ]
    }
   ],
   "source": [
    "F1_1ststage = dict()\n",
    "F1_1ststage_val = dict()\n",
    "\n",
    "F1_2ndstage = dict()\n",
    "F1_2ndstage_val = dict()\n",
    "\n",
    "fulldb = 'databases/MITOS_WSI_CCMCT_ODAEL.sqlite'\n",
    "ablres = 'AblationStudy/results/'\n",
    "for m in models[:4]:\n",
    "    print ('===== %s ===== ' % m)\n",
    "    resfile = m+'-'+dataset_names[m]+'-inference_results_boxes.p.bz2'\n",
    "\n",
    "    F1_1ststage_val[m], _ = calculate_F1(databasefile=dbpath+original_database[m], resfile=ablres+resfile, det_thres=thresholds[m], hotclass=2)\n",
    "    F1_2ndstage_val[m], _ = calculate_F1(databasefile=dbpath+original_database[m], resfile=ablres+'2ndstage_'+resfile, det_thres=thresholds_2stage[m], hotclass=2)\n",
    "\n",
    "    resfile_full = m+'-CCMCT_ODAEL-inference_results_boxes.p.bz2'\n",
    "    F1_1ststage[m], _ = calculate_F1(databasefile=fulldb, resfile=ablres+resfile_full, det_thres=thresholds[m], hotclass=2)\n",
    "    F1_2ndstage[m], _ = calculate_F1(databasefile=fulldb, resfile=ablres+'2ndstage_'+resfile_full, det_thres=thresholds_2stage[m], hotclass=2)"
   ]
  },
  {
   "cell_type": "code",
   "execution_count": 4,
   "metadata": {},
   "outputs": [
    {
     "name": "stdout",
     "output_type": "stream",
     "text": [
      "===== RetinaNet-ODAEL-export.pth ===== \n",
      "Calculating F1 for test set of 11 files\n",
      "Overall: \n",
      "TP: 16074 FP: 11216 FN:  6402 F1: 0.64598320138247\n",
      "Calculating F1 for test set of 11 files\n",
      "Overall: \n",
      "TP: 18248 FP: 3783 FN:  4228 F1: 0.8200058417776979\n",
      "===== RetinaNet-ODAEL-3WSI-export.pth ===== \n",
      "Calculating F1 for test set of 11 files\n",
      "Overall: \n",
      "TP: 13489 FP: 4770 FN:  8987 F1: 0.6622805940837118\n",
      "Calculating F1 for test set of 11 files\n",
      "Overall: \n",
      "TP: 15751 FP: 2580 FN:  6725 F1: 0.7719753963780724\n",
      "===== RetinaNet-ODAEL-6WSI-export.pth ===== \n",
      "Calculating F1 for test set of 11 files\n",
      "Overall: \n",
      "TP: 13236 FP: 9771 FN:  9240 F1: 0.5820196556955346\n",
      "Calculating F1 for test set of 11 files\n",
      "Overall: \n",
      "TP: 17291 FP: 3226 FN:  5185 F1: 0.8043635010350522\n",
      "===== RetinaNet-ODAEL-12WSI-export.pth ===== \n",
      "Calculating F1 for test set of 11 files\n",
      "Overall: \n",
      "TP: 15624 FP: 13065 FN:  6852 F1: 0.6107299912049252\n",
      "Calculating F1 for test set of 11 files\n",
      "Overall: \n",
      "TP: 18189 FP: 3813 FN:  4287 F1: 0.8178874949413193\n"
     ]
    }
   ],
   "source": [
    "F1_1ststage_w = dict()\n",
    "\n",
    "F1_2ndstage_w = dict()\n",
    "\n",
    "fulldb = 'databases/MITOS_WSI_CMCT_ODAEL.sqlite'\n",
    "ablres = 'AblationStudy/results/'\n",
    "for m in models[3:]:\n",
    "    print ('===== %s ===== ' % m)\n",
    "    resfile = m+'-'+dataset_names[m]+'-inference_results_boxes.p.bz2'\n",
    "\n",
    "    F1_1ststage_w[m], _ = calculate_F1(databasefile=dbpath+original_database[m], resfile=ablres+resfile, det_thres=thresholds[m], hotclass=2)\n",
    "    F1_2ndstage_w[m], _ = calculate_F1(databasefile=dbpath+original_database[m], resfile=ablres+'2ndstage_'+resfile, det_thres=thresholds_2stage[m], hotclass=2)\n",
    "\n"
   ]
  },
  {
   "cell_type": "markdown",
   "metadata": {},
   "source": [
    "## Plotting of results"
   ]
  },
  {
   "cell_type": "code",
   "execution_count": 5,
   "metadata": {},
   "outputs": [
    {
     "data": {
      "image/png": "[encoded data removed]",
      "text/plain": [
       "<matplotlib.figure.Figure at 0x7f35c4ebea90>"
      ]
     },
     "metadata": {
      "needs_background": "light"
     },
     "output_type": "display_data"
    }
   ],
   "source": [
    "import matplotlib.pyplot as plt\n",
    "plt.figure(figsize=(5,4))\n",
    "plt.bar(x=[0,1,2,3],height=[F1_2ndstage[x] for x in F1_2ndstage])\n",
    "\n",
    "ax = plt.gca()\n",
    "ax.set_xticks([0,1,2,3])\n",
    "ax.set_xticklabels(['5 HPF','10 HPF','50 HPF','complete'])\n",
    "plt.xlabel('Area used for training (around most invasive part of tumor)')\n",
    "plt.ylabel('F1 score (dual stage model)')\n",
    "plt.savefig('')\n",
    "plt.ylim([0.55,0.85])\n",
    "ax2 = ax.twinx()  # instantiate a second axes that shares the same x-axis\n",
    "\n",
    "color = '#ff8080'\n",
    "colortext = '#992222'\n",
    "\n",
    "\n",
    "ax2.set_ylabel('mitotic figures in training set', color=colortext)  # we already handled the x-label with ax1\n",
    "ax2.plot([0,1,2,3], [378,745,2467,22404], color=color, linewidth=3)\n",
    "ax2.tick_params(axis='y', labelcolor=colortext)\n",
    "plt.tight_layout()\n",
    "plt.savefig('F1score_AblationStudy_HPF.pdf')"
   ]
  },
  {
   "cell_type": "code",
   "execution_count": 6,
   "metadata": {},
   "outputs": [
    {
     "data": {
      "image/png": "[encoded data removed]",
      "text/plain": [
       "<matplotlib.figure.Figure at 0x7f35af2804e0>"
      ]
     },
     "metadata": {
      "needs_background": "light"
     },
     "output_type": "display_data"
    }
   ],
   "source": [
    "import matplotlib.pyplot as plt\n",
    "plt.figure(figsize=(5,4))\n",
    "order = [models[4], models[5], models[6], models[3]]\n",
    "plt.bar(x=[0,1,2,3],height=[F1_2ndstage_w[x] for x in order])\n",
    "\n",
    "ax = plt.gca()\n",
    "ax.set_xticks([0,1,2,3])\n",
    "ax.set_xticklabels(['3 WSI','6 WSI','12 WSI','23 WSI (all)'])\n",
    "plt.xlabel('Number of WSI used for training')\n",
    "plt.ylabel('F1 score (dual stage model)')\n",
    "plt.ylim([0.55,0.85])\n",
    "\n",
    "ax2 = ax.twinx()  # instantiate a second axes that shares the same x-axis\n",
    "\n",
    "color = '#ff8080'\n",
    "colortext = '#992222'\n",
    "ax2.set_ylabel('mitotic figures in train set', color=colortext)  # we already handled the x-label with ax1\n",
    "ax2.plot([0,1,2,3], [4432,5798,12370,22404], color=color, linewidth=3)\n",
    "ax2.tick_params(axis='y', labelcolor=colortext)\n",
    "plt.tight_layout()\n",
    "plt.savefig('F1score_AblationStudy_WSI.pdf')"
   ]
  },
  {
   "cell_type": "code",
   "execution_count": null,
   "metadata": {},
   "outputs": [],
   "source": []
  }
 ],
 "metadata": {
  "kernelspec": {
   "display_name": "Python 3",
   "language": "python",
   "name": "python3"
  },
  "language_info": {
   "codemirror_mode": {
    "name": "ipython",
    "version": 3
   },
   "file_extension": ".py",
   "mimetype": "text/x-python",
   "name": "python",
   "nbconvert_exporter": "python",
   "pygments_lexer": "ipython3",
   "version": "3.6.7"
  }
 },
 "nbformat": 4,
 "nbformat_minor": 2
}
